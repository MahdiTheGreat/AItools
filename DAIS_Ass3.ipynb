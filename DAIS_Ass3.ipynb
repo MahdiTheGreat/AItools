{
  "nbformat": 4,
  "nbformat_minor": 0,
  "metadata": {
    "colab": {
      "provenance": [],
      "authorship_tag": "ABX9TyP7z/kVey2zPcNgemgyeyju",
      "include_colab_link": true
    },
    "kernelspec": {
      "name": "python3",
      "display_name": "Python 3"
    },
    "language_info": {
      "name": "python"
    }
  },
  "cells": [
    {
      "cell_type": "markdown",
      "metadata": {
        "id": "view-in-github",
        "colab_type": "text"
      },
      "source": [
        "<a href=\"https://colab.research.google.com/github/MahdiTheGreat/AItools/blob/main/DAIS_Ass3.ipynb\" target=\"_parent\"><img src=\"https://colab.research.google.com/assets/colab-badge.svg\" alt=\"Open In Colab\"/></a>"
      ]
    },
    {
      "cell_type": "code",
      "execution_count": 1,
      "metadata": {
        "colab": {
          "base_uri": "https://localhost:8080/"
        },
        "id": "1FI5GH7tQ3-2",
        "outputId": "d29cce1c-71eb-4b68-dd38-c8715121581d"
      },
      "outputs": [
        {
          "output_type": "stream",
          "name": "stdout",
          "text": [
            "Cloning into 'AItools'...\n",
            "remote: Enumerating objects: 7, done.\u001b[K\n",
            "remote: Counting objects: 100% (7/7), done.\u001b[K\n",
            "remote: Compressing objects: 100% (6/6), done.\u001b[K\n",
            "remote: Total 7 (delta 0), reused 0 (delta 0), pack-reused 0 (from 0)\u001b[K\n",
            "Receiving objects: 100% (7/7), 65.54 KiB | 729.00 KiB/s, done.\n",
            "/content/AItools\n",
            "Cities.zip  README.md\n"
          ]
        }
      ],
      "source": [
        "!git clone https://github.com/MahdiTheGreat/AItools.git\n",
        "%cd AItools\n",
        "%ls"
      ]
    },
    {
      "cell_type": "code",
      "source": [
        "!unzip \"Cities.zip\" -d \"DAIS_Ass3\"\n",
        "%ls"
      ],
      "metadata": {
        "colab": {
          "base_uri": "https://localhost:8080/"
        },
        "id": "DdW88mhQRF6v",
        "outputId": "8e80d8a7-cd10-4a26-9c1f-3cfd35cc8792"
      },
      "execution_count": 2,
      "outputs": [
        {
          "output_type": "stream",
          "name": "stdout",
          "text": [
            "Archive:  Cities.zip\n",
            "  inflating: DAIS_Ass3/Chengdu_labeled.csv  \n",
            "  inflating: DAIS_Ass3/Shenyang_labeled.csv  \n",
            "  inflating: DAIS_Ass3/Beijing_labeled.csv  \n",
            "  inflating: DAIS_Ass3/Guangzhou_labeled.csv  \n",
            "  inflating: DAIS_Ass3/Shanghai_labeled.csv  \n",
            "Cities.zip  \u001b[0m\u001b[01;34mDAIS_Ass3\u001b[0m/  README.md\n"
          ]
        }
      ]
    },
    {
      "cell_type": "code",
      "source": [
        "class Classifier:\n",
        "    def __init__(self):\n",
        "        # Initialize any parameters or models here\n",
        "        self.model = None\n",
        "\n",
        "    def fit(self, x, y):\n",
        "        # Fit the model to the data\n",
        "        # Here you would add your training logic\n",
        "        print(\"Fitting the model to the data...\")\n",
        "\n",
        "    def predict(self, x):\n",
        "        # Predict new values based on the fitted model\n",
        "        # Here you would add your prediction logic\n",
        "        print(\"Predicting new values...\")\n",
        "\n",
        "\n",
        "    def score(self, x, y):\n",
        "        # Score the model based on test data\n",
        "        # Here you would add your scoring logic\n",
        "        print(\"Scoring the model...\")\n",
        "\n",
        "\n",
        "# Example usage:\n",
        "import numpy as np\n",
        "\n",
        "# Create an instance of the classifier\n",
        "C = Classifier()\n",
        "\n",
        "# Example training data\n",
        "#X_train =\n",
        "#Y_train =\n",
        "\n",
        "# Fit the model\n",
        "C.fit(X_train, Y_train)\n",
        "\n",
        "# Example new data for prediction\n",
        "#x_new =\n",
        "\n",
        "# Predict using the new data\n",
        "predictions = C.predict(x_new)\n",
        "print(\"Predictions:\", predictions)\n",
        "\n",
        "# Calculate the score of the model\n",
        "score = C.score(X_train, Y_train)\n",
        "print(\"Model score:\", score)\n"
      ],
      "metadata": {
        "id": "rrPHMgRRRi9x"
      },
      "execution_count": null,
      "outputs": []
    }
  ]
}